{
 "cells": [
  {
   "attachments": {},
   "cell_type": "markdown",
   "metadata": {},
   "source": [
    "## Ejercicios Alejandra Morales \n",
    "\n",
    "A continuación adjunto ejercicios de la pagina Hackerank, son nivel muy muy muyyy básico, por ahora. Gracias por su atención.\n"
   ]
  },
  {
   "attachments": {},
   "cell_type": "markdown",
   "metadata": {},
   "source": [
    "1. Dado un número entero, realice las siguientes acciones condicionales:\n",
    "\n",
    "    Si es impar, imprimir Weird\n",
    "\n",
    "    Si es par y en el rango de 2 a 5, imprimir **Not Weird**\n",
    "\n",
    "    Si es par y en el rango de 6 a 20, imprimir **Weird**\n",
    "    \n",
    "    Si es par y mayor que 20, imprimir **Not Weird**\n",
    "   "
   ]
  },
  {
   "cell_type": "code",
   "execution_count": null,
   "metadata": {},
   "outputs": [],
   "source": []
  },
  {
   "attachments": {},
   "cell_type": "markdown",
   "metadata": {},
   "source": [
    "2.  Escribe un programa que solicite al usuario ingresar una palabra.\n",
    "    El programa debe arrojar la palabra sin ninguna vocal en una sola linea y en mayusculas.\n",
    "   \n",
    "    Ejemplo entrada: ALEJANDRA \n",
    "    Salida esperada: LJNDR"
   ]
  },
  {
   "cell_type": "code",
   "execution_count": null,
   "metadata": {},
   "outputs": [],
   "source": []
  }
 ],
 "metadata": {
  "kernelspec": {
   "display_name": "Python 3",
   "language": "python",
   "name": "python3"
  },
  "language_info": {
   "name": "python",
   "version": "3.10.4"
  },
  "orig_nbformat": 4
 },
 "nbformat": 4,
 "nbformat_minor": 2
}
