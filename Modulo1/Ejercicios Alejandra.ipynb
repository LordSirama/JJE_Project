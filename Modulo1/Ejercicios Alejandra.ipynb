{
 "cells": [
  {
   "attachments": {},
   "cell_type": "markdown",
   "metadata": {},
   "source": [
    "## Ejercicios Alejandra Morales \n",
    "\n",
    "A continuación adjunto ejercicios de la pagina Hackerank, son nivel muy muy muyyy básico, por ahora. Gracias por su atención.\n"
   ]
  },
  {
   "attachments": {},
   "cell_type": "markdown",
   "metadata": {},
   "source": [
    "1. Dado un número entero, realice las siguientes acciones condicionales:\n",
    "\n",
    "    Si es impar, imprimir Weird\n",
    "\n",
    "    Si es par y en el rango de 2 a 5, imprimir **Not Weird**\n",
    "\n",
    "    Si es par y en el rango de 6 a 20, imprimir **Weird**\n",
    "    \n",
    "    Si es par y mayor que 20, imprimir **Not Weird**\n",
    "   "
   ]
  },
  {
   "cell_type": "code",
   "execution_count": null,
   "metadata": {},
   "outputs": [],
   "source": []
  },
  {
   "cell_type": "code",
   "execution_count": null,
   "metadata": {},
   "outputs": [],
   "source": []
  }
 ],
 "metadata": {
  "language_info": {
   "name": "python"
  },
  "orig_nbformat": 4
 },
 "nbformat": 4,
 "nbformat_minor": 2
}
