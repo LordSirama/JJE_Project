{
 "cells": [
  {
   "attachments": {},
   "cell_type": "markdown",
   "metadata": {},
   "source": [
    "<center>\n",
    "<a href='https://aprendeconalf.es/docencia/python/ejercicios/cadenas/'>\n",
    "<font face='comic sans ms' size=16 color='#77dd77'>Ejercicios Módulo 1\n",
    "</a>\n",
    "</font>\n",
    "</center>"
   ]
  },
  {
   "attachments": {},
   "cell_type": "markdown",
   "metadata": {},
   "source": [
    "1. Escriba un programa que inicie una variable de tipo numérico y, posteriormente, la combierta en una de tipo texto. Para finalizar, el programa debe concatenar el valor de la variable junto al mensaje \"El valor de la variable es: \" e imprimirlo"
   ]
  },
  {
   "cell_type": "code",
   "execution_count": 1,
   "metadata": {},
   "outputs": [],
   "source": [
    "#1"
   ]
  },
  {
   "attachments": {},
   "cell_type": "markdown",
   "metadata": {},
   "source": [
    "3. Cree un programa que solicite al usuario el número del mes del año, y con este valor, mostrar por consola la estación en que se encuentra si se está en la región boreal."
   ]
  },
  {
   "cell_type": "code",
   "execution_count": null,
   "metadata": {},
   "outputs": [],
   "source": [
    "#2"
   ]
  },
  {
   "attachments": {},
   "cell_type": "markdown",
   "metadata": {},
   "source": [
    "3. Escribir un programa que pregunte el nombre del usuario en la consola y un número entero e imprima por pantalla en líneas distintas el nombre del usuario tantas veces como el número introducido."
   ]
  },
  {
   "cell_type": "code",
   "execution_count": null,
   "metadata": {},
   "outputs": [],
   "source": [
    "#3"
   ]
  },
  {
   "attachments": {},
   "cell_type": "markdown",
   "metadata": {},
   "source": [
    "4. Escribir un programa que pregunte el nombre completo del usuario en la consola y después muestre por pantalla el nombre completo del usuario tres veces, una con todas las letras minúsculas, otra con todas las letras mayúsculas y otra solo con la primera letra del nombre y de los apellidos en mayúscula. El usuario puede introducir su nombre combinando mayúsculas y minúsculas como quiera."
   ]
  },
  {
   "cell_type": "code",
   "execution_count": null,
   "metadata": {},
   "outputs": [],
   "source": [
    "#4"
   ]
  },
  {
   "attachments": {},
   "cell_type": "markdown",
   "metadata": {},
   "source": [
    "5. Escribir un programa que pregunte el nombre del usuario en la consola y después de que el usuario lo introduzca muestre por pantalla \\<NOMBRE> tiene \\<n> letras, donde \\<NOMBRE> es el nombre de usuario en mayúsculas y \\<n> es el número de letras que tienen el nombre."
   ]
  },
  {
   "cell_type": "code",
   "execution_count": null,
   "metadata": {},
   "outputs": [],
   "source": [
    "#5"
   ]
  },
  {
   "attachments": {},
   "cell_type": "markdown",
   "metadata": {},
   "source": [
    "6. Los teléfonos de una empresa tienen el siguiente formato prefijo-número-extension donde el prefijo es el código del país +34, y la extensión tiene dos dígitos (por ejemplo +34-913724710-56). Escribir un programa que pregunte por un número de teléfono con este formato y muestre por pantalla el número de teléfono sin el prefijo y la extensión."
   ]
  },
  {
   "cell_type": "code",
   "execution_count": null,
   "metadata": {},
   "outputs": [],
   "source": [
    "#6"
   ]
  },
  {
   "attachments": {},
   "cell_type": "markdown",
   "metadata": {},
   "source": [
    "7. Escribir un programa que pida al usuario que introduzca una frase en la consola y muestre por pantalla la frase invertida."
   ]
  },
  {
   "cell_type": "code",
   "execution_count": null,
   "metadata": {},
   "outputs": [],
   "source": [
    "#7"
   ]
  },
  {
   "attachments": {},
   "cell_type": "markdown",
   "metadata": {},
   "source": [
    "8. Escribir un programa que pida al usuario que introduzca una frase en la consola y una vocal, y después muestre por pantalla la misma frase pero con la vocal introducida en mayúscula."
   ]
  },
  {
   "cell_type": "code",
   "execution_count": null,
   "metadata": {},
   "outputs": [],
   "source": [
    "#8"
   ]
  },
  {
   "attachments": {},
   "cell_type": "markdown",
   "metadata": {},
   "source": [
    "9. Escribir un programa que pregunte el correo electrónico del usuario en la consola y muestre por pantalla otro correo electrónico con el mismo nombre (la parte delante de la arroba @) pero con dominio ceu.es."
   ]
  },
  {
   "cell_type": "code",
   "execution_count": null,
   "metadata": {},
   "outputs": [],
   "source": [
    "#9"
   ]
  },
  {
   "attachments": {},
   "cell_type": "markdown",
   "metadata": {},
   "source": [
    "10. Escribir un programa que pregunte por consola el precio de un producto en euros con dos decimales y muestre por pantalla el número de euros y el número de céntimos del precio introducido."
   ]
  },
  {
   "cell_type": "code",
   "execution_count": null,
   "metadata": {},
   "outputs": [],
   "source": [
    "#10"
   ]
  },
  {
   "attachments": {},
   "cell_type": "markdown",
   "metadata": {},
   "source": [
    "11. Escribir un programa que pregunte al usuario la fecha de su nacimiento en formato dd/mm/aaaa y muestra por pantalla, el día, el mes y el año. Adaptar el programa anterior para que también funcione cuando el día o el mes se introduzcan con un solo carácter."
   ]
  },
  {
   "cell_type": "code",
   "execution_count": null,
   "metadata": {},
   "outputs": [],
   "source": [
    "#11"
   ]
  },
  {
   "attachments": {},
   "cell_type": "markdown",
   "metadata": {},
   "source": [
    "12. Escribir un programa que pregunte por consola por los productos de una cesta de la compra, separados por comas, y muestre por pantalla cada uno de los productos en una línea distinta."
   ]
  },
  {
   "cell_type": "code",
   "execution_count": null,
   "metadata": {},
   "outputs": [],
   "source": [
    "#12"
   ]
  },
  {
   "attachments": {},
   "cell_type": "markdown",
   "metadata": {},
   "source": [
    "13. Escribir un programa que pregunte el nombre el un producto, su precio y un número de unidades y muestre por pantalla una cadena con el nombre del producto seguido de su precio unitario con 6 dígitos enteros y 2 decimales, el número de unidades con tres dígitos y el coste total con 8 dígitos enteros y 2 decimales."
   ]
  },
  {
   "cell_type": "code",
   "execution_count": null,
   "metadata": {},
   "outputs": [],
   "source": [
    "#13"
   ]
  },
  {
   "cell_type": "code",
   "execution_count": 1,
   "metadata": {},
   "outputs": [
    {
     "name": "stdout",
     "output_type": "stream",
     "text": [
      "\n",
      "--- Ferretería ---\n",
      "1. Ingresar mercancía\n",
      "2. Vender mercancía\n",
      "3. Mostrar inventario\n",
      "4. Salir\n",
      "Opción inválida. Por favor, ingrese una opción válida.\n",
      "\n",
      "--- Ferretería ---\n",
      "1. Ingresar mercancía\n",
      "2. Vender mercancía\n",
      "3. Mostrar inventario\n",
      "4. Salir\n",
      "Opción inválida. Por favor, ingrese una opción válida.\n",
      "\n",
      "--- Ferretería ---\n",
      "1. Ingresar mercancía\n",
      "2. Vender mercancía\n",
      "3. Mostrar inventario\n",
      "4. Salir\n",
      "Opción inválida. Por favor, ingrese una opción válida.\n",
      "\n",
      "--- Ferretería ---\n",
      "1. Ingresar mercancía\n",
      "2. Vender mercancía\n",
      "3. Mostrar inventario\n",
      "4. Salir\n",
      "Opción inválida. Por favor, ingrese una opción válida.\n",
      "\n",
      "--- Ferretería ---\n",
      "1. Ingresar mercancía\n",
      "2. Vender mercancía\n",
      "3. Mostrar inventario\n",
      "4. Salir\n",
      "Opción inválida. Por favor, ingrese una opción válida.\n",
      "\n",
      "--- Ferretería ---\n",
      "1. Ingresar mercancía\n",
      "2. Vender mercancía\n",
      "3. Mostrar inventario\n",
      "4. Salir\n",
      "Opción inválida. Por favor, ingrese una opción válida.\n",
      "\n",
      "--- Ferretería ---\n",
      "1. Ingresar mercancía\n",
      "2. Vender mercancía\n",
      "3. Mostrar inventario\n",
      "4. Salir\n",
      "Opción inválida. Por favor, ingrese una opción válida.\n",
      "\n",
      "--- Ferretería ---\n",
      "1. Ingresar mercancía\n",
      "2. Vender mercancía\n",
      "3. Mostrar inventario\n",
      "4. Salir\n",
      "Opción inválida. Por favor, ingrese una opción válida.\n",
      "\n",
      "--- Ferretería ---\n",
      "1. Ingresar mercancía\n",
      "2. Vender mercancía\n",
      "3. Mostrar inventario\n",
      "4. Salir\n",
      "Opción inválida. Por favor, ingrese una opción válida.\n",
      "\n",
      "--- Ferretería ---\n",
      "1. Ingresar mercancía\n",
      "2. Vender mercancía\n",
      "3. Mostrar inventario\n",
      "4. Salir\n",
      "Opción inválida. Por favor, ingrese una opción válida.\n",
      "\n",
      "--- Ferretería ---\n",
      "1. Ingresar mercancía\n",
      "2. Vender mercancía\n",
      "3. Mostrar inventario\n",
      "4. Salir\n",
      "Opción inválida. Por favor, ingrese una opción válida.\n",
      "\n",
      "--- Ferretería ---\n",
      "1. Ingresar mercancía\n",
      "2. Vender mercancía\n",
      "3. Mostrar inventario\n",
      "4. Salir\n",
      "Opción inválida. Por favor, ingrese una opción válida.\n",
      "\n",
      "--- Ferretería ---\n",
      "1. Ingresar mercancía\n",
      "2. Vender mercancía\n",
      "3. Mostrar inventario\n",
      "4. Salir\n",
      "Opción inválida. Por favor, ingrese una opción válida.\n",
      "\n",
      "--- Ferretería ---\n",
      "1. Ingresar mercancía\n",
      "2. Vender mercancía\n",
      "3. Mostrar inventario\n",
      "4. Salir\n",
      "Opción inválida. Por favor, ingrese una opción válida.\n",
      "\n",
      "--- Ferretería ---\n",
      "1. Ingresar mercancía\n",
      "2. Vender mercancía\n",
      "3. Mostrar inventario\n",
      "4. Salir\n",
      "Opción inválida. Por favor, ingrese una opción válida.\n",
      "\n",
      "--- Ferretería ---\n",
      "1. Ingresar mercancía\n",
      "2. Vender mercancía\n",
      "3. Mostrar inventario\n",
      "4. Salir\n",
      "Opción inválida. Por favor, ingrese una opción válida.\n",
      "\n",
      "--- Ferretería ---\n",
      "1. Ingresar mercancía\n",
      "2. Vender mercancía\n",
      "3. Mostrar inventario\n",
      "4. Salir\n"
     ]
    }
   ],
   "source": [
    "inventario = {}\n",
    "\n",
    "def ingresar_mercancia():\n",
    "    producto = input(\"Ingrese el nombre del producto: \")\n",
    "    cantidad = int(input(\"Ingrese la cantidad de mercancía que ingresa: \"))\n",
    "\n",
    "    if producto in inventario:\n",
    "        inventario[producto] += cantidad\n",
    "    else:\n",
    "        inventario[producto] = cantidad\n",
    "\n",
    "    print(\"Mercancía ingresada correctamente.\")\n",
    "\n",
    "def vender_mercancia():\n",
    "    producto = input(\"Ingrese el nombre del producto a vender: \")\n",
    "\n",
    "    if producto in inventario:\n",
    "        cantidad = int(input(\"Ingrese la cantidad de mercancía que se vende: \"))\n",
    "\n",
    "        if inventario[producto] >= cantidad:\n",
    "            inventario[producto] -= cantidad\n",
    "            print(\"Venta realizada correctamente.\")\n",
    "        else:\n",
    "            print(\"No hay suficiente cantidad de mercancía en el inventario.\")\n",
    "    else:\n",
    "        print(\"El producto no se encuentra en el inventario.\")\n",
    "\n",
    "def mostrar_inventario():\n",
    "    print(\"Inventario actual:\")\n",
    "    for producto, cantidad in inventario.items():\n",
    "        print(producto + \": \" + str(cantidad))\n",
    "\n",
    "# Ejecución del programa\n",
    "while True:\n",
    "    print(\"\\n--- Ferretería ---\")\n",
    "    print(\"1. Ingresar mercancía\")\n",
    "    print(\"2. Vender mercancía\")\n",
    "    print(\"3. Mostrar inventario\")\n",
    "    print(\"4. Salir\")\n",
    "\n",
    "    opcion = input(\"Ingrese una opción: \")\n",
    "\n",
    "    if opcion == \"1\":\n",
    "        ingresar_mercancia()\n",
    "    elif opcion == \"2\":\n",
    "        vender_mercancia()\n",
    "    elif opcion == \"3\":\n",
    "        mostrar_inventario()\n",
    "    elif opcion == \"4\":\n",
    "        break\n",
    "    else:\n",
    "        print(\"Opción inválida. Por favor, ingrese una opción válida.\")"
   ]
  },
  {
   "cell_type": "code",
   "execution_count": 21,
   "metadata": {},
   "outputs": [
    {
     "data": {
      "text/plain": [
       "2067619643824"
      ]
     },
     "execution_count": 21,
     "metadata": {},
     "output_type": "execute_result"
    }
   ],
   "source": [
    "a = 7\n",
    "id(a)"
   ]
  },
  {
   "cell_type": "code",
   "execution_count": 20,
   "metadata": {},
   "outputs": [
    {
     "data": {
      "text/plain": [
       "2067619643824"
      ]
     },
     "execution_count": 20,
     "metadata": {},
     "output_type": "execute_result"
    }
   ],
   "source": [
    "# type(9)\n",
    "# type(1.2) \n",
    "# space_odyssey = (\"2001\")\n",
    "# print (space_odyssey)\n",
    "\n"
   ]
  },
  {
   "cell_type": "code",
   "execution_count": 16,
   "metadata": {},
   "outputs": [
    {
     "name": "stdout",
     "output_type": "stream",
     "text": [
      "52457\n"
     ]
    }
   ],
   "source": [
    "final_stock = input(\"38934: \")\n",
    "print(final_stock)"
   ]
  },
  {
   "attachments": {},
   "cell_type": "markdown",
   "metadata": {},
   "source": [
    "<h1><center><a href=\"https://aprendeconalf.es/docencia/python/ejercicios/cadenas/\">\n",
    "Clic aquí para ver las respuestas\n",
    "</a></center></h1>"
   ]
  }
 ],
 "metadata": {
  "kernelspec": {
   "display_name": "Python 3",
   "language": "python",
   "name": "python3"
  },
  "language_info": {
   "codemirror_mode": {
    "name": "ipython",
    "version": 3
   },
   "file_extension": ".py",
   "mimetype": "text/x-python",
   "name": "python",
   "nbconvert_exporter": "python",
   "pygments_lexer": "ipython3",
   "version": "3.10.11"
  },
  "orig_nbformat": 4
 },
 "nbformat": 4,
 "nbformat_minor": 2
}
