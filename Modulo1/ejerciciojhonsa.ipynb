{
 "cells": [
  {
   "cell_type": "code",
   "execution_count": 29,
   "metadata": {},
   "outputs": [
    {
     "name": "stdout",
     "output_type": "stream",
     "text": [
      "Usted pertenece al grupo: A\n"
     ]
    }
   ],
   "source": [
    "\n",
    "nombre = input(\"Ingrese su nombre: \")\n",
    "genero = input(\"Ingrese su género (M para mujer, H para hombre): \")\n",
    "\n",
    "if (genero == 'M' and 'M' in nombre.upper()) or (genero == 'H' and 'N' in nombre.upper()):\n",
    "    grupo = 'A'\n",
    "else:\n",
    "    grupo = 'B'\n",
    "\n",
    "print(\"Usted pertenece al grupo:\", grupo)\n",
    "\n"
   ]
  },
  {
   "cell_type": "code",
   "execution_count": 1,
   "metadata": {},
   "outputs": [
    {
     "name": "stdout",
     "output_type": "stream",
     "text": [
      "Ingredientes disponibles para la hamburguesa vegetariana:\n",
      "- Tomate\n",
      "- Tarta de lentejas\n",
      "La hamburguesa seleccionada es vegetariana y contiene los siguientes ingredientes:\n",
      "- Pan\n",
      "- Lechuga\n",
      "- tomate\n"
     ]
    }
   ],
   "source": [
    "opcion = input(\"¿Desea una hamburguesa vegetariana? (Sí/No): \")\n",
    "\n",
    "if opcion.lower() == \"sí\" or opcion.lower() == \"si\":\n",
    "    print(\"Ingredientes disponibles para la hamburguesa vegetariana:\")\n",
    "    print(\"- Tomate\")\n",
    "    print(\"- Tarta de lentejas\")\n",
    "else:\n",
    "    print(\"Ingredientes disponibles para la hamburguesa no vegetariana:\")\n",
    "    print(\"- Carne\")\n",
    "    print(\"- Jamón\")\n",
    "    print(\"- Queso\")\n",
    "\n",
    "\n",
    "elegido = input(\"Ingrese el ingrediente que desea agregar a su hamburguesa (excepto pan y lechuga): \")\n",
    "\n",
    "if opcion.lower() == \"sí\" or opcion.lower() == \"si\":\n",
    "    tipo = \"vegetariana\"\n",
    "else:\n",
    "    tipo = \"no vegetariana\"\n",
    "\n",
    "print(\"La hamburguesa seleccionada es\", tipo, \"y contiene los siguientes ingredientes:\")\n",
    "print(\"- Pan\")\n",
    "print(\"- Lechuga\")\n",
    "print(\"- \" + elegido)"
   ]
  },
  {
   "cell_type": "code",
   "execution_count": 24,
   "metadata": {},
   "outputs": [
    {
     "ename": "NameError",
     "evalue": "name 'fin' is not defined",
     "output_type": "error",
     "traceback": [
      "\u001b[1;31m---------------------------------------------------------------------------\u001b[0m",
      "\u001b[1;31mNameError\u001b[0m                                 Traceback (most recent call last)",
      "Cell \u001b[1;32mIn[24], line 24\u001b[0m\n\u001b[0;32m     22\u001b[0m \u001b[39m# Solicitar rango de edad al usuario\u001b[39;00m\n\u001b[0;32m     23\u001b[0m inicio \u001b[39m=\u001b[39m \u001b[39mint\u001b[39m(\u001b[39minput\u001b[39m(\u001b[39m\"\u001b[39m\u001b[39mIngrese el inicio del rango de edad: \u001b[39m\u001b[39m\"\u001b[39m))\n\u001b[1;32m---> 24\u001b[0m fin \u001b[39m=\u001b[39m fin\n\u001b[0;32m     25\u001b[0m \u001b[39mint\u001b[39m(\u001b[39minput\u001b[39m(\u001b[39m\"\u001b[39m\u001b[39mIngrese el final del rango de edad: \u001b[39m\u001b[39m\"\u001b[39m))\n\u001b[0;32m     27\u001b[0m \u001b[39m# Mostrar mensaje correspondiente a cada etapa de la vida\u001b[39;00m\n",
      "\u001b[1;31mNameError\u001b[0m: name 'fin' is not defined"
     ]
    }
   ],
   "source": [
    "#Las etapas de la vida:\n",
    "#El usuario debe hacer un programa donde digite un rango de edad y le muestre:\n",
    "# a. Un valor de 0-10: \"La niñez es divertida\"\n",
    "# b. Un valor de 10-20: \"Diversos cambios e incontable estudio\"\n",
    "# c. Un valor de 20-30: \"Madurez y vida adulta\"\n",
    "\n",
    "def determinar_etapa_vida(edad):\n",
    "\n",
    "    while not edad.isdigit():\n",
    "        print('ingrese una edad valida')\n",
    "        edad=int(input('ingrese su edad:'))\n",
    "\n",
    "    if edad >= 0 and edad <= 10:\n",
    "        return \"La niñez es divertida\"\n",
    "    elif edad > 10 and edad <= 20:\n",
    "        return \"Diversos cambios e incontable estudio\"\n",
    "    elif edad > 20 and edad <= 30:\n",
    "        return \"Madurez y vida adulta\"\n",
    "    else:\n",
    "        return \"Edad fuera de rango\"\n",
    "\n",
    "# Solicitar rango de edad al usuario\n",
    "inicio = int(input(\"Ingrese el inicio del rango de edad: \"))\n",
    "fin = fin\n",
    "int(input(\"Ingrese el final del rango de edad: \"))\n",
    "\n",
    "# Mostrar mensaje correspondiente a cada etapa de la vida\n",
    "for edad in range(inicio, fin + 1):\n",
    "    mensaje = determinar_etapa_vida(edad)\n",
    "    print(f\"Para la edad {edad}: {mensaje}\")\n",
    "     \n",
    "\n"
   ]
  }
 ],
 "metadata": {
  "kernelspec": {
   "display_name": "Python 3",
   "language": "python",
   "name": "python3"
  },
  "language_info": {
   "codemirror_mode": {
    "name": "ipython",
    "version": 3
   },
   "file_extension": ".py",
   "mimetype": "text/x-python",
   "name": "python",
   "nbconvert_exporter": "python",
   "pygments_lexer": "ipython3",
   "version": "3.10.11"
  },
  "orig_nbformat": 4
 },
 "nbformat": 4,
 "nbformat_minor": 2
}
