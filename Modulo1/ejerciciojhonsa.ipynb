{
 "cells": [
  {
   "cell_type": "code",
   "execution_count": 29,
   "metadata": {},
   "outputs": [
    {
     "name": "stdout",
     "output_type": "stream",
     "text": [
      "Usted pertenece al grupo: A\n"
     ]
    }
   ],
   "source": [
    "\n",
    "nombre = input(\"Ingrese su nombre: \")\n",
    "genero = input(\"Ingrese su género (M para mujer, H para hombre): \")\n",
    "\n",
    "if (genero == 'M' and 'M' in nombre.upper()) or (genero == 'H' and 'N' in nombre.upper()):\n",
    "    grupo = 'A'\n",
    "else:\n",
    "    grupo = 'B'\n",
    "\n",
    "print(\"Usted pertenece al grupo:\", grupo)\n",
    "\n"
   ]
  },
  {
   "cell_type": "code",
   "execution_count": 1,
   "metadata": {},
   "outputs": [
    {
     "name": "stdout",
     "output_type": "stream",
     "text": [
      "Ingredientes disponibles para la hamburguesa vegetariana:\n",
      "- Tomate\n",
      "- Tarta de lentejas\n",
      "La hamburguesa seleccionada es vegetariana y contiene los siguientes ingredientes:\n",
      "- Pan\n",
      "- Lechuga\n",
      "- tomate\n"
     ]
    }
   ],
   "source": [
    "opcion = input(\"¿Desea una hamburguesa vegetariana? (Sí/No): \")\n",
    "\n",
    "if opcion.lower() == \"sí\" or opcion.lower() == \"si\":\n",
    "    print(\"Ingredientes disponibles para la hamburguesa vegetariana:\")\n",
    "    print(\"- Tomate\")\n",
    "    print(\"- Tarta de lentejas\")\n",
    "else:\n",
    "    print(\"Ingredientes disponibles para la hamburguesa no vegetariana:\")\n",
    "    print(\"- Carne\")\n",
    "    print(\"- Jamón\")\n",
    "    print(\"- Queso\")\n",
    "\n",
    "\n",
    "elegido = input(\"Ingrese el ingrediente que desea agregar a su hamburguesa (excepto pan y lechuga): \")\n",
    "\n",
    "if opcion.lower() == \"sí\" or opcion.lower() == \"si\":\n",
    "    tipo = \"vegetariana\"\n",
    "else:\n",
    "    tipo = \"no vegetariana\"\n",
    "\n",
    "print(\"La hamburguesa seleccionada es\", tipo, \"y contiene los siguientes ingredientes:\")\n",
    "print(\"- Pan\")\n",
    "print(\"- Lechuga\")\n",
    "print(\"- \" + elegido)"
   ]
  },
  {
   "cell_type": "code",
   "execution_count": 24,
   "metadata": {},
   "outputs": [
    {
     "name": "stdout",
     "output_type": "stream",
     "text": [
      "False\n",
      "True\n"
     ]
    }
   ],
   "source": [
    "n = int(input(\"ingrese numero:\"))\n",
    "print (n >= 100)\n",
    "\n",
    "\n",
    "n1  =  +123 >= 100\n",
    "print(n1)\n",
    "\n"
   ]
  },
  {
   "cell_type": "code",
   "execution_count": 6,
   "metadata": {},
   "outputs": [
    {
     "name": "stdout",
     "output_type": "stream",
     "text": [
      "6.0\n"
     ]
    }
   ],
   "source": [
    "# #filter()Esta función selecciona aquellos elementos de un iterable que cumplan una determinada\n",
    "# condición. Supongamos que queremos seleccionar sólo aquellos números impares dentro de\n",
    "# un rango:\n",
    "\n",
    "# Funciones anónimas «lambda»\n",
    "# Una función lambda tiene las siguientes propiedades:\n",
    "# 1. Se escribe con una única sentencia.\n",
    "# 2. No tiene nombre (anónima).\n",
    "# 3. Su cuerpo tiene implícito un return.\n",
    "# 4. Puede recibir cualquier número de parámetros.\n",
    "# Veamos un primer ejemplo de función «lambda» que nos permite contar el número de\n",
    "# palabras de una cadena de texto:\n",
    "\n",
    "\n",
    "def promediar_elementos_pares(lista):\n",
    "    # Filtrar los elementos pares de la lista y convertirlos en una lista\n",
    "    elementos_pares = list(filter(lambda x: x % 2 == 0, lista))\n",
    "    \n",
    "    # Calcular el promedio de los elementos pares\n",
    "    if elementos_pares:\n",
    "        promedio = sum(elementos_pares) / len(elementos_pares)\n",
    "        return promedio\n",
    "    else:\n",
    "        return 0  # Si no hay elementos pares, devolver 0 o algún otro valor deseado}\n",
    "    \n",
    "\n",
    "numeros = [1, 2, 3, 4, 5, 6, 7, 8, 9, 10]\n",
    "promedio_pares = promediar_elementos_pares(numeros)\n",
    "print(promedio_pares)  \n"
   ]
  },
  {
   "cell_type": "code",
   "execution_count": 15,
   "metadata": {},
   "outputs": [
    {
     "name": "stdout",
     "output_type": "stream",
     "text": [
      "[1, 2, 3, 4, 5, 6, 7, 8, 9, 10, 11]\n"
     ]
    }
   ],
   "source": [
    "def eliminar_elementos_repetidos(lista):\n",
    "    elementos_unicos = list(set(lista))\n",
    "    return elementos_unicos\n",
    "numeros = [2, 2, 3, 3, 4, 5, 6, 6, 7, 8, 8, 9, 10, 1, 3, 8, 11,]\n",
    "elementos_unicos = eliminar_elementos_repetidos(numeros)\n",
    "print(elementos_unicos) \n",
    "\n"
   ]
  },
  {
   "cell_type": "code",
   "execution_count": 19,
   "metadata": {},
   "outputs": [
    {
     "name": "stdout",
     "output_type": "stream",
     "text": [
      "[1, 4, 2, 5, 3, 6]\n"
     ]
    }
   ],
   "source": [
    "def intercalar_listas(lista1, lista2):\n",
    "    if len(lista1) != len(lista2):\n",
    "        raise ValueError(\"Las listas deben tener el mismo tamaño.\")\n",
    "    \n",
    "    intercalada = [elemento for tupla in zip(lista1, lista2) for elemento in tupla]\n",
    "    return intercalada\n",
    "lista1 = [1, 2, 3]\n",
    "lista2 = [4, 5, 6]\n",
    "\n",
    "resultado = intercalar_listas(lista1, lista2)\n",
    "print(resultado)  \n"
   ]
  },
  {
   "cell_type": "code",
   "execution_count": null,
   "metadata": {},
   "outputs": [],
   "source": [
    "from collections import Counter\n",
    "\n",
    "def contar_pares_impares(lista):\n",
    "    conteo = Counter(num % 2 for num in lista)\n",
    "    pares = conteo[0]\n",
    "    impares = conteo[1]\n",
    "    return pares, impares\n",
    "\n"
   ]
  }
 ],
 "metadata": {
  "kernelspec": {
   "display_name": "Python 3",
   "language": "python",
   "name": "python3"
  },
  "language_info": {
   "codemirror_mode": {
    "name": "ipython",
    "version": 3
   },
   "file_extension": ".py",
   "mimetype": "text/x-python",
   "name": "python",
   "nbconvert_exporter": "python",
   "pygments_lexer": "ipython3",
   "version": "3.10.11"
  },
  "orig_nbformat": 4
 },
 "nbformat": 4,
 "nbformat_minor": 2
}
