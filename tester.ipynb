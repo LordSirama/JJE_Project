{
 "cells": [
  {
   "attachments": {},
   "cell_type": "markdown",
   "metadata": {},
   "source": [
    "<center>\n",
    "<h1>\n",
    "Pruebas cortas\n",
    "</h1>\n",
    "</center>"
   ]
  },
  {
   "cell_type": "code",
   "execution_count": 1,
   "metadata": {},
   "outputs": [
    {
     "name": "stdout",
     "output_type": "stream",
     "text": [
      "{'m': ['móvil', 'monitor'], 'b': ['barco', 'bandeja'], 'c': ['coche', 'casa', 'carretera'], 'a': ['avión', 'arco']}\n"
     ]
    }
   ],
   "source": [
    "lista= [\"móvil\", \"barco\", \"coche\", \"avión\", \"bandeja\", \"casa\",\n",
    "\"monitor\", \"carretera\", \"arco\"]\n",
    "abecedario=('abcdefghijklmnopqrstuvwxyz')\n",
    "abece=list(abecedario)\n",
    "dicti=dict()\n",
    "# dicti.update({i[0]: dicti.get(i[0],[]) + [i] for i in lista})\n",
    "for elemento in lista: \n",
    "    dicti.update({\n",
    "        elemento[0]:dicti.get(elemento[0],[])+[elemento]\n",
    "    })\n",
    "\n",
    "print(dicti)"
   ]
  },
  {
   "cell_type": "code",
   "execution_count": 2,
   "metadata": {},
   "outputs": [
    {
     "name": "stdout",
     "output_type": "stream",
     "text": [
      "{'m': ['móvil', 'monitor'], 'b': ['barco', 'bandeja'], 'c': ['coche', 'casa', 'carretera'], 'a': ['avión', 'arco']}\n"
     ]
    }
   ],
   "source": [
    "lista= [\"móvil\", \"barco\", \"coche\", \"avión\", \"bandeja\", \"casa\",\n",
    "\"monitor\", \"carretera\", \"arco\"]\n",
    "abecedario=('abcdefghijklmnopqrstuvwxyz')\n",
    "abece=list(abecedario)\n",
    "dicti=dict()\n",
    "{i[0]: dicti.update({i[0]: dicti.get(i[0],[]) + [i]}) for i in lista}\n",
    "print(dicti)"
   ]
  }
 ],
 "metadata": {
  "kernelspec": {
   "display_name": "Python 3",
   "language": "python",
   "name": "python3"
  },
  "language_info": {
   "codemirror_mode": {
    "name": "ipython",
    "version": 3
   },
   "file_extension": ".py",
   "mimetype": "text/x-python",
   "name": "python",
   "nbconvert_exporter": "python",
   "pygments_lexer": "ipython3",
   "version": "3.10.8"
  },
  "orig_nbformat": 4
 },
 "nbformat": 4,
 "nbformat_minor": 2
}
